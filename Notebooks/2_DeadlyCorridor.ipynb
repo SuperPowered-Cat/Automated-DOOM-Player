{
 "cells": [
  {
   "cell_type": "markdown",
   "id": "bfc68c12-ff7a-4f6d-9a4d-fe3d65675579",
   "metadata": {},
   "source": [
    "# VizDoom Basic Runnning"
   ]
  },
  {
   "cell_type": "markdown",
   "id": "f01af73f-9f4a-493b-8e97-961583f1cb72",
   "metadata": {},
   "source": [
    "## Step 1: Installing VizDoom"
   ]
  },
  {
   "cell_type": "code",
   "execution_count": 5,
   "id": "d2cb4ee6-ba54-4834-9bf2-03597ef4d217",
   "metadata": {
    "collapsed": true,
    "jupyter": {
     "outputs_hidden": true
    },
    "tags": []
   },
   "outputs": [
    {
     "name": "stdout",
     "output_type": "stream",
     "text": [
      "Defaulting to user installation because normal site-packages is not writeable\n",
      "Collecting vizdoom\n",
      "  Downloading vizdoom-1.2.4-cp39-cp39-win_amd64.whl (15.5 MB)\n",
      "     -------------------------------------- 15.5/15.5 MB 540.7 kB/s eta 0:00:00\n",
      "Collecting pygame>=2.1.3\n",
      "  Downloading pygame-2.6.1-cp39-cp39-win_amd64.whl (10.6 MB)\n",
      "     -------------------------------------- 10.6/10.6 MB 522.6 kB/s eta 0:00:00\n",
      "Requirement already satisfied: gymnasium>=0.28.0 in c:\\users\\kiit\\appdata\\roaming\\python\\python39\\site-packages (from vizdoom) (1.0.0)\n",
      "Requirement already satisfied: numpy in c:\\users\\kiit\\appdata\\roaming\\python\\python39\\site-packages (from vizdoom) (1.21.6)\n",
      "Requirement already satisfied: typing-extensions>=4.3.0 in c:\\users\\kiit\\appdata\\roaming\\python\\python39\\site-packages (from gymnasium>=0.28.0->vizdoom) (4.12.2)\n",
      "Requirement already satisfied: cloudpickle>=1.2.0 in c:\\programdata\\anaconda3\\lib\\site-packages (from gymnasium>=0.28.0->vizdoom) (2.0.0)\n",
      "Requirement already satisfied: importlib-metadata>=4.8.0 in c:\\programdata\\anaconda3\\lib\\site-packages (from gymnasium>=0.28.0->vizdoom) (4.11.3)\n",
      "Requirement already satisfied: farama-notifications>=0.0.1 in c:\\users\\kiit\\appdata\\roaming\\python\\python39\\site-packages (from gymnasium>=0.28.0->vizdoom) (0.0.4)\n",
      "Requirement already satisfied: zipp>=0.5 in c:\\programdata\\anaconda3\\lib\\site-packages (from importlib-metadata>=4.8.0->gymnasium>=0.28.0->vizdoom) (3.8.0)\n",
      "Installing collected packages: pygame, vizdoom\n",
      "Successfully installed pygame-2.6.1 vizdoom-1.2.4\n",
      "Note: you may need to restart the kernel to use updated packages.\n"
     ]
    },
    {
     "name": "stderr",
     "output_type": "stream",
     "text": [
      "WARNING: Ignoring invalid distribution -orch (c:\\users\\kiit\\appdata\\roaming\\python\\python39\\site-packages)\n",
      "WARNING: Ignoring invalid distribution -orch (c:\\users\\kiit\\appdata\\roaming\\python\\python39\\site-packages)\n",
      "WARNING: Ignoring invalid distribution -orch (c:\\users\\kiit\\appdata\\roaming\\python\\python39\\site-packages)\n",
      "WARNING: Ignoring invalid distribution -orch (c:\\users\\kiit\\appdata\\roaming\\python\\python39\\site-packages)\n",
      "WARNING: Ignoring invalid distribution -orch (c:\\users\\kiit\\appdata\\roaming\\python\\python39\\site-packages)\n",
      "WARNING: Ignoring invalid distribution -orch (c:\\users\\kiit\\appdata\\roaming\\python\\python39\\site-packages)\n",
      "WARNING: Ignoring invalid distribution -orch (c:\\users\\kiit\\appdata\\roaming\\python\\python39\\site-packages)\n",
      "WARNING: Ignoring invalid distribution -orch (c:\\users\\kiit\\appdata\\roaming\\python\\python39\\site-packages)\n"
     ]
    }
   ],
   "source": [
    "pip install vizdoom ## free opensource library for running DOOM through python"
   ]
  },
  {
   "cell_type": "code",
   "execution_count": 8,
   "id": "ec5d8e3a-5a38-491e-a3bb-e53fd213e177",
   "metadata": {},
   "outputs": [],
   "source": [
    "!cd github"
   ]
  },
  {
   "cell_type": "code",
   "execution_count": 12,
   "id": "dc72924f-f2bd-4925-a0fb-ec88aed22ecf",
   "metadata": {
    "collapsed": true,
    "jupyter": {
     "outputs_hidden": true
    },
    "tags": []
   },
   "outputs": [
    {
     "name": "stdout",
     "output_type": "stream",
     "text": [
      "Defaulting to user installation because normal site-packages is not writeable\n",
      "Note: you may need to restart the kernel to use updated packages.\n"
     ]
    },
    {
     "name": "stderr",
     "output_type": "stream",
     "text": [
      "WARNING: Ignoring invalid distribution -orch (c:\\users\\kiit\\appdata\\roaming\\python\\python39\\site-packages)\n",
      "WARNING: Ignoring invalid distribution -orch (c:\\users\\kiit\\appdata\\roaming\\python\\python39\\site-packages)\n",
      "ERROR: Could not find a version that satisfies the requirement git (from versions: none)\n",
      "ERROR: No matching distribution found for git\n",
      "WARNING: Ignoring invalid distribution -orch (c:\\users\\kiit\\appdata\\roaming\\python\\python39\\site-packages)\n",
      "WARNING: Ignoring invalid distribution -orch (c:\\users\\kiit\\appdata\\roaming\\python\\python39\\site-packages)\n",
      "WARNING: Ignoring invalid distribution -orch (c:\\users\\kiit\\appdata\\roaming\\python\\python39\\site-packages)\n"
     ]
    }
   ],
   "source": [
    "pip install git"
   ]
  },
  {
   "cell_type": "code",
   "execution_count": 28,
   "id": "006548f7-b7e0-48e5-a478-a4b20ec46ded",
   "metadata": {
    "collapsed": true,
    "jupyter": {
     "outputs_hidden": true
    },
    "tags": []
   },
   "outputs": [
    {
     "name": "stderr",
     "output_type": "stream",
     "text": [
      "Cloning into 'ViZDoom'...\n",
      "Updating files:  53% (1110/2058)\n",
      "Updating files:  54% (1112/2058)\n",
      "Updating files:  55% (1132/2058)\n",
      "Updating files:  56% (1153/2058)\n",
      "Updating files:  57% (1174/2058)\n",
      "Updating files:  58% (1194/2058)\n",
      "Updating files:  59% (1215/2058)\n",
      "Updating files:  60% (1235/2058)\n",
      "Updating files:  61% (1256/2058)\n",
      "Updating files:  62% (1276/2058)\n",
      "Updating files:  63% (1297/2058)\n",
      "Updating files:  64% (1318/2058)\n",
      "Updating files:  65% (1338/2058)\n",
      "Updating files:  66% (1359/2058)\n",
      "Updating files:  67% (1379/2058)\n",
      "Updating files:  68% (1400/2058)\n",
      "Updating files:  69% (1421/2058)\n",
      "Updating files:  70% (1441/2058)\n",
      "Updating files:  71% (1462/2058)\n",
      "Updating files:  72% (1482/2058)\n",
      "Updating files:  73% (1503/2058)\n",
      "Updating files:  74% (1523/2058)\n",
      "Updating files:  75% (1544/2058)\n",
      "Updating files:  76% (1565/2058)\n",
      "Updating files:  77% (1585/2058)\n",
      "Updating files:  78% (1606/2058)\n",
      "Updating files:  79% (1626/2058)\n",
      "Updating files:  80% (1647/2058)\n",
      "Updating files:  81% (1667/2058)\n",
      "Updating files:  82% (1688/2058)\n",
      "Updating files:  83% (1709/2058)\n",
      "Updating files:  84% (1729/2058)\n",
      "Updating files:  85% (1750/2058)\n",
      "Updating files:  86% (1770/2058)\n",
      "Updating files:  87% (1791/2058)\n",
      "Updating files:  88% (1812/2058)\n",
      "Updating files:  89% (1832/2058)\n",
      "Updating files:  90% (1853/2058)\n",
      "Updating files:  91% (1873/2058)\n",
      "Updating files:  92% (1894/2058)\n",
      "Updating files:  93% (1914/2058)\n",
      "Updating files:  94% (1935/2058)\n",
      "Updating files:  95% (1956/2058)\n",
      "Updating files:  96% (1976/2058)\n",
      "Updating files:  97% (1997/2058)\n",
      "Updating files:  98% (2017/2058)\n",
      "Updating files:  99% (2038/2058)\n",
      "Updating files: 100% (2058/2058)\n",
      "Updating files: 100% (2058/2058), done.\n"
     ]
    }
   ],
   "source": [
    "!cd github & git clone https://github.com/Farama-Foundation/ViZDoom"
   ]
  },
  {
   "cell_type": "code",
   "execution_count": 2,
   "id": "9ac232a3-2b19-4ca4-b228-1f1dd082a7da",
   "metadata": {},
   "outputs": [],
   "source": [
    "# Imports \n",
    "from vizdoom import * # every vizdoom dependancy\n",
    "# for game model\n",
    "import random\n",
    "import time\n",
    "import numpy as np"
   ]
  },
  {
   "cell_type": "code",
   "execution_count": 126,
   "id": "c2ecea73-727d-4965-a8a1-a1642b25d1b4",
   "metadata": {},
   "outputs": [],
   "source": [
    "# GAME SETUP\n",
    "\n",
    "game = DoomGame()\n",
    "game.load_config('github/ViZDoom/scenarios/new_1deadly_corridor.cfg')\n",
    "game.init()"
   ]
  },
  {
   "cell_type": "code",
   "execution_count": 12,
   "id": "67ce08ef-8b5a-4a24-8a6d-8e176f8a0652",
   "metadata": {},
   "outputs": [],
   "source": [
    "# ACTIONS ARE MOVE_LEFT, MOVE_RIGHT, MOVE_FRONT, MOVE_BACK, TURN_LEFT, TURN_RIGHT, ATTACK"
   ]
  },
  {
   "cell_type": "code",
   "execution_count": 124,
   "id": "4de640c7-0cbe-4bcb-a3c8-5c7f5dd10dca",
   "metadata": {},
   "outputs": [],
   "source": [
    "actions = np.identity(7, dtype = np.uint8)\n",
    "# the identity matrix acts as actions"
   ]
  },
  {
   "cell_type": "code",
   "execution_count": 16,
   "id": "c9282d30-bc18-44d8-9574-4e5dc0a4f684",
   "metadata": {},
   "outputs": [
    {
     "data": {
      "text/plain": [
       "array([[1, 0, 0, 0, 0, 0, 0, 0],\n",
       "       [0, 1, 0, 0, 0, 0, 0, 0],\n",
       "       [0, 0, 1, 0, 0, 0, 0, 0],\n",
       "       [0, 0, 0, 1, 0, 0, 0, 0],\n",
       "       [0, 0, 0, 0, 1, 0, 0, 0],\n",
       "       [0, 0, 0, 0, 0, 1, 0, 0],\n",
       "       [0, 0, 0, 0, 0, 0, 1, 0],\n",
       "       [0, 0, 0, 0, 0, 0, 0, 1]], dtype=uint8)"
      ]
     },
     "execution_count": 16,
     "metadata": {},
     "output_type": "execute_result"
    }
   ],
   "source": [
    "actions"
   ]
  },
  {
   "cell_type": "code",
   "execution_count": 56,
   "id": "d61aecaf-4d12-4687-8fdb-debfd096bd26",
   "metadata": {},
   "outputs": [
    {
     "data": {
      "text/plain": [
       "array([0, 0, 0, 0, 1, 0, 0, 0], dtype=uint8)"
      ]
     },
     "execution_count": 56,
     "metadata": {},
     "output_type": "execute_result"
    }
   ],
   "source": [
    "# checking with random actions to simulate random events\n",
    "random.choice(actions)"
   ]
  },
  {
   "cell_type": "code",
   "execution_count": 58,
   "id": "eda9c4fc-1881-4a16-88fe-399d8fd3ad0f",
   "metadata": {},
   "outputs": [],
   "source": [
    "game.new_episode()"
   ]
  },
  {
   "cell_type": "code",
   "execution_count": 90,
   "id": "6107c8ca-b049-43fe-a0fb-60d2b0d39aa0",
   "metadata": {},
   "outputs": [
    {
     "data": {
      "text/plain": [
       "-0.088775634765625"
      ]
     },
     "execution_count": 90,
     "metadata": {},
     "output_type": "execute_result"
    }
   ],
   "source": [
    "game.make_action(random.choice(actions))"
   ]
  },
  {
   "cell_type": "code",
   "execution_count": 88,
   "id": "c804f069-53da-4917-8cb0-a30e965fc74f",
   "metadata": {},
   "outputs": [],
   "source": [
    "state = game.get_state()"
   ]
  },
  {
   "cell_type": "code",
   "execution_count": 92,
   "id": "052f7197-1e20-45aa-9afb-1a9864dfb6b9",
   "metadata": {},
   "outputs": [],
   "source": [
    "game.close()"
   ]
  },
  {
   "cell_type": "code",
   "execution_count": 96,
   "id": "970d78c4-b92b-403f-9dba-834709ea773a",
   "metadata": {},
   "outputs": [],
   "source": [
    "# using random actions to visualise our environment\n",
    "episodes = 10\n",
    "for episode in range(episodes):\n",
    "    game.new_episode()\n",
    "    while not game.is_episode_finished():\n",
    "        game.make_action(random.choice(actions))\n",
    "        "
   ]
  },
  {
   "cell_type": "code",
   "execution_count": 122,
   "id": "a5b7a8b8-e187-4809-9a8d-7c632ca0a494",
   "metadata": {
    "collapsed": true,
    "jupyter": {
     "outputs_hidden": true
    },
    "tags": []
   },
   "outputs": [
    {
     "name": "stdout",
     "output_type": "stream",
     "text": [
      "Reward:  0.0\n",
      "Reward:  0.0\n",
      "Reward:  0.0\n",
      "Reward:  0.8358306884765625\n",
      "Reward:  1.0026397705078125\n",
      "Reward:  6.090789794921875\n",
      "Reward:  7.4091949462890625\n",
      "Reward:  4.9975433349609375\n",
      "Reward:  3.370819091796875\n",
      "Reward:  8.00347900390625\n",
      "Reward:  8.094879150390625\n",
      "Reward:  5.4599761962890625\n",
      "Reward:  3.6827239990234375\n",
      "Reward:  2.4839630126953125\n",
      "Reward:  1.6753997802734375\n",
      "Reward:  1.1299896240234375\n",
      "Reward:  0.7620697021484375\n",
      "Reward:  -12.60052490234375\n",
      "Reward:  -0.9346160888671875\n",
      "Reward:  -0.6305084228515625\n",
      "Reward:  -0.425384521484375\n",
      "Reward:  1.1631317138671875\n",
      "Reward:  0.095703125\n",
      "Reward:  -0.697113037109375\n",
      "Reward:  -0.4702911376953125\n",
      "Reward:  -0.31732177734375\n",
      "Reward:  -0.2141265869140625\n",
      "Reward:  3.245513916015625\n",
      "Reward:  3.45281982421875\n",
      "Reward:  2.3289031982421875\n",
      "Reward:  -2.7127685546875\n",
      "Reward:  0.426849365234375\n",
      "Reward:  -2.803680419921875\n",
      "Reward:  -4.73492431640625\n",
      "Reward:  0.44854736328125\n",
      "Reward:  1.75701904296875\n",
      "Reward:  -1.843170166015625\n",
      "Reward:  -7.7213592529296875\n",
      "Reward:  2.755615234375\n",
      "Reward:  -1.168121337890625\n",
      "Reward:  -7.163330078125\n",
      "Reward:  -6.422119140625\n",
      "Reward:  1.9947662353515625\n",
      "Reward:  6.6928253173828125\n",
      "Reward:  12.478164672851562\n",
      "Reward:  11.763641357421875\n",
      "Reward:  2.8140716552734375\n",
      "Reward:  1.898040771484375\n",
      "Reward:  -0.957794189453125\n",
      "Reward:  -0.0366973876953125\n",
      "Reward:  -2.7790985107421875\n",
      "Reward:  -0.2760162353515625\n",
      "Reward:  7.7776031494140625\n",
      "Reward:  5.5648040771484375\n",
      "Reward:  7.7166290283203125\n",
      "Reward:  5.4096527099609375\n",
      "Reward:  0.5748748779296875\n",
      "Reward:  -10.378250122070312\n",
      "Reward:  -7.130828857421875\n",
      "Reward:  -3.2197265625\n",
      "Reward:  -8.545654296875\n",
      "Reward:  -8.28948974609375\n",
      "Reward:  -3.771881103515625\n",
      "Reward:  -2.5442657470703125\n",
      "Reward:  -1.7162322998046875\n",
      "Reward:  -1.157745361328125\n",
      "Reward:  1.5800018310546875\n",
      "Reward:  -4.1438446044921875\n",
      "Reward:  -3.4642181396484375\n",
      "Reward:  1.4088897705078125\n",
      "Reward:  3.1482086181640625\n",
      "Reward:  -2.542144775390625\n",
      "Reward:  -3.002960205078125\n",
      "Reward:  -8.662704467773438\n",
      "Reward:  -11.781600952148438\n",
      "Reward:  -9.235153198242188\n",
      "Reward:  -4.237396240234375\n",
      "Reward:  -5.1249542236328125\n",
      "Reward:  -3.6160430908203125\n",
      "Reward:  0.0\n",
      "Reward:  0.0\n",
      "Reward:  0.0\n",
      "Reward:  6.636871337890625\n",
      "Reward:  7.961883544921875\n",
      "Reward:  -0.9033966064453125\n",
      "Reward:  -106.94873046875\n",
      "Reward result:  -109.23185729980469\n",
      "Reward:  0.0\n",
      "Reward:  0.0\n",
      "Reward:  -0.41351318359375\n",
      "Reward:  -0.496185302734375\n",
      "Reward:  0.078704833984375\n",
      "Reward:  0.270111083984375\n",
      "Reward:  0.18206787109375\n",
      "Reward:  -0.2960662841796875\n",
      "Reward:  -0.6567840576171875\n",
      "Reward:  -0.9424591064453125\n",
      "Reward:  -0.4455718994140625\n",
      "Reward:  -7.4007110595703125\n",
      "Reward:  -5.7730712890625\n",
      "Reward:  0.1446075439453125\n",
      "Reward:  -0.22802734375\n",
      "Reward:  0.0\n",
      "Reward:  1.2498626708984375\n",
      "Reward:  1.1881866455078125\n",
      "Reward:  7.6640167236328125\n",
      "Reward:  15.9976806640625\n",
      "Reward:  14.519027709960938\n",
      "Reward:  9.793197631835938\n",
      "Reward:  6.6055450439453125\n",
      "Reward:  4.4554595947265625\n",
      "Reward:  3.4268035888671875\n",
      "Reward:  0.9718780517578125\n",
      "Reward:  0.6554412841796875\n",
      "Reward:  0.441986083984375\n",
      "Reward:  0.298004150390625\n",
      "Reward:  0.0578765869140625\n",
      "Reward:  -5.8456268310546875\n",
      "Reward:  -3.41632080078125\n",
      "Reward:  1.28887939453125\n",
      "Reward:  0.8692169189453125\n",
      "Reward:  0.586181640625\n",
      "Reward:  -2.2568511962890625\n",
      "Reward:  -0.2631072998046875\n",
      "Reward:  1.215118408203125\n",
      "Reward:  0.819488525390625\n",
      "Reward:  0.5526275634765625\n",
      "Reward:  0.372650146484375\n",
      "Reward:  0.2512664794921875\n",
      "Reward:  0.1693878173828125\n",
      "Reward:  6.46514892578125\n",
      "Reward:  7.7558441162109375\n",
      "Reward:  5.231353759765625\n",
      "Reward:  9.993743896484375\n",
      "Reward:  10.767196655273438\n",
      "Reward:  8.75592041015625\n",
      "Reward:  5.90594482421875\n",
      "Reward:  3.983612060546875\n",
      "Reward:  2.686920166015625\n",
      "Reward:  -5.0138092041015625\n",
      "Reward:  -6.8519134521484375\n",
      "Reward:  1.313995361328125\n",
      "Reward:  -1.9326171875\n",
      "Reward:  -8.180084228515625\n",
      "Reward:  -3.7327423095703125\n",
      "Reward:  -4.3031005859375\n",
      "Reward:  -8.63592529296875\n",
      "Reward:  -11.461441040039062\n",
      "Reward:  -5.05963134765625\n",
      "Reward:  0.3461456298828125\n",
      "Reward:  2.2073974609375\n",
      "Reward:  -2.2704010009765625\n",
      "Reward:  0.99713134765625\n",
      "Reward:  0.069000244140625\n",
      "Reward:  -5.4114990234375\n",
      "Reward:  -6.4919891357421875\n",
      "Reward:  1.0323028564453125\n",
      "Reward:  3.5379180908203125\n",
      "Reward:  2.3862762451171875\n",
      "Reward:  1.6094512939453125\n",
      "Reward:  1.085479736328125\n",
      "Reward:  5.984710693359375\n",
      "Reward:  5.2789306640625\n",
      "Reward:  -2.9001617431640625\n",
      "Reward:  -8.975921630859375\n",
      "Reward:  -1.692901611328125\n",
      "Reward:  -3.7242584228515625\n",
      "Reward:  -5.6293487548828125\n",
      "Reward:  -3.7972259521484375\n",
      "Reward:  3.8096923828125\n",
      "Reward:  2.6721954345703125\n",
      "Reward:  -0.0864715576171875\n",
      "Reward:  0.0\n",
      "Reward:  0.0\n",
      "Reward:  0.0\n",
      "Reward:  2.4576568603515625\n",
      "Reward:  2.9482269287109375\n",
      "Reward:  -4.9107208251953125\n",
      "Reward:  -5.2496185302734375\n",
      "Reward:  6.0655670166015625\n",
      "Reward:  14.613327026367188\n",
      "Reward:  13.479812622070312\n",
      "Reward:  2.4571533203125\n",
      "Reward:  -1.827056884765625\n",
      "Reward:  -1.232452392578125\n",
      "Reward:  -0.8313751220703125\n",
      "Reward:  -0.5608367919921875\n",
      "Reward:  -0.3784027099609375\n",
      "Reward:  -2.1171112060546875\n",
      "Reward:  -0.5441741943359375\n",
      "Reward:  0.6104278564453125\n",
      "Reward:  0.41162109375\n",
      "Reward:  0.2774658203125\n",
      "Reward:  -6.805572509765625\n",
      "Reward:  -1.2701873779296875\n",
      "Reward:  2.815185546875\n",
      "Reward:  0.6487884521484375\n",
      "Reward:  -0.2189178466796875\n",
      "Reward:  -0.1477508544921875\n",
      "Reward:  0.31884765625\n",
      "Reward:  0.0160369873046875\n",
      "Reward:  -0.20916748046875\n",
      "Reward:  6.1950531005859375\n",
      "Reward:  2.9197998046875\n",
      "Reward:  6.4785003662109375\n",
      "Reward:  7.4530487060546875\n",
      "Reward:  -1.9655303955078125\n",
      "Reward:  1.9944610595703125\n",
      "Reward:  5.0172119140625\n",
      "Reward:  4.63397216796875\n",
      "Reward:  3.781982421875\n",
      "Reward:  3.80084228515625\n",
      "Reward:  2.5147247314453125\n",
      "Reward:  1.1561279296875\n",
      "Reward:  0.77972412109375\n",
      "Reward:  0.525848388671875\n",
      "Reward:  2.193939208984375\n",
      "Reward:  0.3730316162109375\n",
      "Reward:  -0.8315582275390625\n",
      "Reward:  -2.6234283447265625\n",
      "Reward:  -1.6956634521484375\n",
      "Reward:  -2.7983245849609375\n",
      "Reward:  -10.081680297851562\n",
      "Reward:  -13.0455322265625\n",
      "Reward:  -4.4956817626953125\n",
      "Reward:  -6.032196044921875\n",
      "Reward:  -8.613677978515625\n",
      "Reward:  -10.186813354492188\n",
      "Reward:  -1.9760589599609375\n",
      "Reward:  1.8424224853515625\n",
      "Reward:  -4.3078460693359375\n",
      "Reward:  -5.8206329345703125\n",
      "Reward:  0.9615478515625\n",
      "Reward:  3.215240478515625\n",
      "Reward:  -3.2663116455078125\n",
      "Reward:  0.377410888671875\n",
      "Reward:  2.722320556640625\n",
      "Reward:  6.854217529296875\n",
      "Reward:  3.597747802734375\n",
      "Reward:  0.5089569091796875\n",
      "Reward:  0.3431854248046875\n",
      "Reward:  0.1270751953125\n",
      "Reward:  0.0\n",
      "Reward:  0.0\n",
      "Reward:  -1.99560546875\n",
      "Reward:  -4.04486083984375\n",
      "Reward:  -3.1211090087890625\n",
      "Reward:  -2.7041778564453125\n",
      "Reward:  -1.8296661376953125\n",
      "Reward:  -0.7855072021484375\n",
      "Reward:  4.7980499267578125\n",
      "Reward:  7.473236083984375\n",
      "Reward:  5.7019195556640625\n",
      "Reward:  0.295867919921875\n",
      "Reward:  5.6335296630859375\n",
      "Reward:  0.608551025390625\n",
      "Reward:  -1.938140869140625\n",
      "Reward:  -0.3758392333984375\n",
      "Reward:  1.853057861328125\n",
      "Reward:  2.3561248779296875\n",
      "Reward:  7.8131256103515625\n",
      "Reward:  8.538406372070312\n",
      "Reward:  5.7592010498046875\n",
      "Reward:  6.80718994140625\n",
      "Reward:  6.085174560546875\n",
      "Reward:  4.3642578125\n",
      "Reward:  4.261810302734375\n",
      "Reward:  6.1406097412109375\n",
      "Reward:  2.12005615234375\n",
      "Reward:  -0.5102691650390625\n",
      "Reward:  -0.3442535400390625\n",
      "Reward:  5.1222381591796875\n",
      "Reward:  6.2247772216796875\n",
      "Reward:  3.1530609130859375\n",
      "Reward:  -2.8006591796875\n",
      "Reward:  -9.1727294921875\n",
      "Reward:  -3.6446380615234375\n",
      "Reward:  0.1992034912109375\n",
      "Reward:  5.4887542724609375\n",
      "Reward:  2.10302734375\n",
      "Reward:  -5.308868408203125\n",
      "Reward:  -5.8578948974609375\n",
      "Reward:  -3.5123748779296875\n",
      "Reward:  1.3251190185546875\n",
      "Reward:  2.4658966064453125\n",
      "Reward:  -4.66119384765625\n",
      "Reward:  -6.41253662109375\n",
      "Reward:  -10.446258544921875\n",
      "Reward:  -1.26495361328125\n",
      "Reward:  8.639083862304688\n",
      "Reward:  6.17279052734375\n",
      "Reward:  2.611083984375\n",
      "Reward:  0.5262298583984375\n",
      "Reward:  0.3548126220703125\n",
      "Reward:  -101.50949096679688\n",
      "Reward result:  9.61529541015625\n",
      "Reward:  0.0\n",
      "Reward:  0.0\n",
      "Reward:  -7.11376953125\n",
      "Reward:  -8.86181640625\n",
      "Reward:  0.0\n",
      "Reward:  0.0\n",
      "Reward:  0.0\n",
      "Reward:  0.7238922119140625\n",
      "Reward:  -0.5260772705078125\n",
      "Reward:  -0.2193603515625\n",
      "Reward:  0.8358306884765625\n",
      "Reward:  0.8392486572265625\n",
      "Reward:  0.0\n",
      "Reward:  0.0\n",
      "Reward:  0.0\n",
      "Reward:  -1.592041015625\n",
      "Reward:  -0.078155517578125\n",
      "Reward:  0.0\n",
      "Reward:  0.0\n",
      "Reward:  0.0\n",
      "Reward:  0.0\n",
      "Reward:  2.7975311279296875\n",
      "Reward:  3.73065185546875\n",
      "Reward:  3.1906890869140625\n",
      "Reward:  2.1520538330078125\n",
      "Reward:  1.4515228271484375\n",
      "Reward:  0.97900390625\n",
      "Reward:  0.6602630615234375\n",
      "Reward:  -0.679473876953125\n",
      "Reward:  -7.7916259765625\n",
      "Reward:  -2.0540313720703125\n",
      "Reward:  2.1551361083984375\n",
      "Reward:  1.190521240234375\n",
      "Reward:  0.423736572265625\n",
      "Reward:  -8.147109985351562\n",
      "Reward:  0.570037841796875\n",
      "Reward:  0.67486572265625\n",
      "Reward:  0.180877685546875\n",
      "Reward:  0.2411041259765625\n",
      "Reward:  0.29705810546875\n",
      "Reward:  -2.0072174072265625\n",
      "Reward:  0.0\n",
      "Reward:  -0.0182952880859375\n",
      "Reward:  0.0\n",
      "Reward:  5.7874603271484375\n",
      "Reward:  6.9735870361328125\n",
      "Reward:  4.70367431640625\n",
      "Reward:  -3.507415771484375\n",
      "Reward:  -5.8738555908203125\n",
      "Reward:  -3.9621124267578125\n",
      "Reward:  4.1308746337890625\n",
      "Reward:  6.3590240478515625\n"
     ]
    },
    {
     "ename": "KeyboardInterrupt",
     "evalue": "",
     "output_type": "error",
     "traceback": [
      "\u001b[1;31m---------------------------------------------------------------------------\u001b[0m",
      "\u001b[1;31mKeyboardInterrupt\u001b[0m                         Traceback (most recent call last)",
      "\u001b[1;32m~\\AppData\\Local\\Temp\\ipykernel_10724\\3624238772.py\u001b[0m in \u001b[0;36m<module>\u001b[1;34m\u001b[0m\n\u001b[0;32m      9\u001b[0m         \u001b[0minfo\u001b[0m \u001b[1;33m=\u001b[0m \u001b[0mstate\u001b[0m\u001b[1;33m.\u001b[0m\u001b[0mgame_variables\u001b[0m \u001b[1;31m# game variables -> 50 ammo\u001b[0m\u001b[1;33m\u001b[0m\u001b[1;33m\u001b[0m\u001b[0m\n\u001b[0;32m     10\u001b[0m         \u001b[1;31m# the 4 is passing no of frame skips so that the game sees the choice made\u001b[0m\u001b[1;33m\u001b[0m\u001b[1;33m\u001b[0m\u001b[0m\n\u001b[1;32m---> 11\u001b[1;33m         \u001b[0mreward\u001b[0m \u001b[1;33m=\u001b[0m \u001b[0mgame\u001b[0m\u001b[1;33m.\u001b[0m\u001b[0mmake_action\u001b[0m\u001b[1;33m(\u001b[0m\u001b[0mrandom\u001b[0m\u001b[1;33m.\u001b[0m\u001b[0mchoice\u001b[0m\u001b[1;33m(\u001b[0m\u001b[0mactions\u001b[0m\u001b[1;33m)\u001b[0m\u001b[1;33m,\u001b[0m \u001b[1;36m4\u001b[0m\u001b[1;33m)\u001b[0m \u001b[1;31m# any random choice for the player\u001b[0m\u001b[1;33m\u001b[0m\u001b[1;33m\u001b[0m\u001b[0m\n\u001b[0m\u001b[0;32m     12\u001b[0m \u001b[1;33m\u001b[0m\u001b[0m\n\u001b[0;32m     13\u001b[0m         \u001b[1;31m# live reward function printing\u001b[0m\u001b[1;33m\u001b[0m\u001b[1;33m\u001b[0m\u001b[0m\n",
      "\u001b[1;31mKeyboardInterrupt\u001b[0m: "
     ]
    }
   ],
   "source": [
    "# now setting up a basic reward function\n",
    "episodes = 10\n",
    "for episode in range(episodes):\n",
    "    game.new_episode() # making new episode (new game)\n",
    "    while not game.is_episode_finished(): # looping while the game is not finished\n",
    "        state = game.get_state() # to assess current state of the game\n",
    "        #stats about current state\n",
    "        img = state.screen_buffer # gets the frame of the game\n",
    "        info = state.game_variables # game variables -> 50 ammo\n",
    "        # the 4 is passing no of frame skips so that the game sees the choice made\n",
    "        reward = game.make_action(random.choice(actions), 4) # any random choice for the player\n",
    "        \n",
    "        # live reward function printing\n",
    "        print(\"Reward: \", reward)\n",
    "        time.sleep(.009)\n",
    "    print(\"Reward result: \", game.get_total_reward())\n",
    "    time.sleep(1)"
   ]
  },
  {
   "cell_type": "code",
   "execution_count": 100,
   "id": "8857a029-cfcd-4733-be94-6f785dc1fede",
   "metadata": {},
   "outputs": [],
   "source": [
    "# the current config of rewards is not incentivising our agent to kill monsters\n",
    "# only reward is reachig the end of the corridor, but that is not viable if we train on this bassic reward as it will learn to move forward\n",
    "# thus we need to apply reward shaping to the config to make the agent learn better"
   ]
  },
  {
   "cell_type": "code",
   "execution_count": 113,
   "id": "d16dca3c-860f-4fe2-bddc-c5735f6a3843",
   "metadata": {},
   "outputs": [],
   "source": [
    "# will use new variables DAMAGE_TAKEN (-ve reinforcement), HITCOUNT (+ve) and SELECTED_WEAPON_AMMO (-ve)\n",
    "# updated in new_deadly_corridor"
   ]
  },
  {
   "cell_type": "code",
   "execution_count": 116,
   "id": "ccb15bb9-cba4-4534-a33a-df7d7445995a",
   "metadata": {},
   "outputs": [],
   "source": [
    "# we will also use curriculum learning, so starting with skill 1 and all the way to skill 5\n",
    "# files stored as new_1deadly_corridor, new_2deadlycorridor etc "
   ]
  },
  {
   "cell_type": "code",
   "execution_count": 128,
   "id": "e6fc3fe3-da26-4159-8d39-df4d6852c26e",
   "metadata": {},
   "outputs": [
    {
     "data": {
      "text/plain": [
       "array([100.,   0.,   0.,  -1.])"
      ]
     },
     "execution_count": 128,
     "metadata": {},
     "output_type": "execute_result"
    }
   ],
   "source": [
    "game.get_state().game_variables"
   ]
  },
  {
   "cell_type": "code",
   "execution_count": 130,
   "id": "7f23ffbd-5e83-4663-9158-8de8134c05b7",
   "metadata": {},
   "outputs": [],
   "source": [
    "# they map to HEALTH, DAMAGE_TAKEN, HITCOUNT, SELECTED_WEAPON_AMMO "
   ]
  },
  {
   "cell_type": "code",
   "execution_count": 102,
   "id": "91d5385e-ed16-437d-ab86-a75673fc243d",
   "metadata": {},
   "outputs": [],
   "source": [
    "game.close()"
   ]
  },
  {
   "cell_type": "markdown",
   "id": "e022d7e0-f175-40b4-9dd2-79063444ea5f",
   "metadata": {},
   "source": [
    "# Setting up VizDoom on OpenAI Gym Environment"
   ]
  },
  {
   "cell_type": "code",
   "execution_count": 48,
   "id": "3a8781fe-4dbb-4fa9-9b2a-6e4b0e4b045d",
   "metadata": {},
   "outputs": [
    {
     "name": "stdout",
     "output_type": "stream",
     "text": [
      "Defaulting to user installation because normal site-packages is not writeable\n",
      "Requirement already satisfied: gym in c:\\users\\kiit\\appdata\\roaming\\python\\python39\\site-packages (0.26.2)\n",
      "Requirement already satisfied: gym_notices>=0.0.4 in c:\\users\\kiit\\appdata\\roaming\\python\\python39\\site-packages (from gym) (0.0.8)\n",
      "Requirement already satisfied: numpy>=1.18.0 in c:\\users\\kiit\\appdata\\roaming\\python\\python39\\site-packages (from gym) (1.21.6)\n",
      "Requirement already satisfied: importlib_metadata>=4.8.0 in c:\\users\\kiit\\appdata\\roaming\\python\\python39\\site-packages (from gym) (8.5.0)\n",
      "Requirement already satisfied: cloudpickle>=1.2.0 in c:\\programdata\\anaconda3\\lib\\site-packages (from gym) (2.0.0)\n",
      "Requirement already satisfied: zipp>=3.20 in c:\\users\\kiit\\appdata\\roaming\\python\\python39\\site-packages (from importlib_metadata>=4.8.0->gym) (3.21.0)\n"
     ]
    },
    {
     "name": "stderr",
     "output_type": "stream",
     "text": [
      "WARNING: Ignoring invalid distribution -orch (c:\\users\\kiit\\appdata\\roaming\\python\\python39\\site-packages)\n",
      "WARNING: Ignoring invalid distribution -orch (c:\\users\\kiit\\appdata\\roaming\\python\\python39\\site-packages)\n",
      "WARNING: Ignoring invalid distribution -orch (c:\\users\\kiit\\appdata\\roaming\\python\\python39\\site-packages)\n",
      "WARNING: Ignoring invalid distribution -orch (c:\\users\\kiit\\appdata\\roaming\\python\\python39\\site-packages)\n",
      "WARNING: Ignoring invalid distribution -orch (c:\\users\\kiit\\appdata\\roaming\\python\\python39\\site-packages)\n",
      "WARNING: Ignoring invalid distribution -orch (c:\\users\\kiit\\appdata\\roaming\\python\\python39\\site-packages)\n"
     ]
    }
   ],
   "source": [
    "!pip install gym"
   ]
  },
  {
   "cell_type": "code",
   "execution_count": 4,
   "id": "d9b3e9f2-2dd3-4017-889a-eb15313a60fd",
   "metadata": {},
   "outputs": [],
   "source": [
    "# Imports from OpenAI Gym\n",
    "from gymnasium import Env\n",
    "#importing gym spaces\n",
    "from gymnasium.spaces import Discrete, Box\n",
    "import cv2"
   ]
  },
  {
   "cell_type": "code",
   "execution_count": 4,
   "id": "673812ef-605e-4cb2-9b8f-a5682180c3cf",
   "metadata": {},
   "outputs": [
    {
     "data": {
      "text/plain": [
       "0"
      ]
     },
     "execution_count": 4,
     "metadata": {},
     "output_type": "execute_result"
    }
   ],
   "source": [
    "Discrete(3).sample() # using this we can randomly sample from the action space"
   ]
  },
  {
   "cell_type": "code",
   "execution_count": 12,
   "id": "43354e25-6fc3-44c1-b3bf-633667aee3ef",
   "metadata": {},
   "outputs": [
    {
     "data": {
      "text/plain": [
       "array([1, 0, 0], dtype=uint8)"
      ]
     },
     "execution_count": 12,
     "metadata": {},
     "output_type": "execute_result"
    }
   ],
   "source": [
    "actions[Discrete(3).sample()]"
   ]
  },
  {
   "cell_type": "code",
   "execution_count": 14,
   "id": "b0d75c8b-a561-4928-82af-affc66bac186",
   "metadata": {},
   "outputs": [
    {
     "data": {
      "text/plain": [
       "array([[193,  85,  60, ..., 222,  28,  10],\n",
       "       [150, 177, 175, ...,  88, 153, 122],\n",
       "       [137, 235, 176, ..., 169, 155, 161],\n",
       "       ...,\n",
       "       [151, 146,  69, ..., 138, 108, 134],\n",
       "       [ 84,  89, 101, ..., 105,  96,   0],\n",
       "       [250,  55, 102, ...,  27, 130,  57]], dtype=uint8)"
      ]
     },
     "execution_count": 14,
     "metadata": {},
     "output_type": "execute_result"
    }
   ],
   "source": [
    "Box(low=0, high=255, shape=(320,240), dtype = np.uint8).sample() # gives image"
   ]
  },
  {
   "cell_type": "markdown",
   "id": "c44c4c1a-641c-442d-930d-05778f04448c",
   "metadata": {},
   "source": [
    "### Defining Classes"
   ]
  },
  {
   "cell_type": "code",
   "execution_count": 6,
   "id": "58464a63-27c4-4f30-a1e6-4cf9378735d3",
   "metadata": {},
   "outputs": [],
   "source": [
    "import numpy as np\n",
    "import cv2\n",
    "from vizdoom import DoomGame\n",
    "from gymnasium import Env\n",
    "from gymnasium.spaces import Box, Discrete"
   ]
  },
  {
   "cell_type": "code",
   "execution_count": 45,
   "id": "2c721067-73d9-4891-a88a-f9b649b73a40",
   "metadata": {},
   "outputs": [],
   "source": [
    "class VizDoomGym(Env):    \n",
    "    def __init__(self, render=False, config = 'github/ViZDoom/scenarios/new_1deadly_corridor.cfg'):\n",
    "        super().__init__()\n",
    "        self.game = DoomGame()\n",
    "        # initially set config as the first and then we can change by directly passing \n",
    "        self.game.load_config(config)\n",
    "\n",
    "        self.game.set_window_visible(render)\n",
    "        self.game.init()\n",
    "\n",
    "        self.observation_space = Box(low=0, high=255, shape=(100, 160, 1), dtype=np.uint8)\n",
    "        self.action_space = Discrete(7)\n",
    "        \n",
    "        # available_game_variables = { HEALTH DAMAGE_TAKEN HITCOUNT SELECTED_WEAPON_AMMO}\n",
    "        self.damage_taken = 0\n",
    "        self.hitcount = 0\n",
    "        self.ammo = 52\n",
    "        \n",
    "    def step(self, action):\n",
    "        actions = np.identity(7, dtype=np.uint8)\n",
    "        movement_reward = self.game.make_action(actions[action], 4)\n",
    "\n",
    "        reward = 0\n",
    "        if self.game.get_state():\n",
    "            state = self.game.get_state().screen_buffer\n",
    "            state = self.grayscale(state)\n",
    "            ammo = self.game.get_state().game_variables[0]\n",
    "            \n",
    "            # REWARD SHAPING:\n",
    "            game_variables = self.game.get_state().game_variables\n",
    "            health, damage_taken, hitcount, ammo = game_variables\n",
    "            \n",
    "            # calculate reward deltas\n",
    "            damage_taken_delta = damage_taken - self.damage_taken\n",
    "            self.damage_taken = damage_taken\n",
    "            hitcount_delta = hitcount - self.hitcount\n",
    "            self.hitcount = hitcount\n",
    "            ammo_delta = ammo - self.ammo\n",
    "            self.ammo = ammo\n",
    "            \n",
    "            reward = movement_reward + damage_taken_delta*10 + hitcount_delta*200 + ammo_delta*5\n",
    "            info = {\n",
    "                \"ammo\": ammo,\n",
    "                \"health\": health,\n",
    "                \"damage_taken\": damage_taken,\n",
    "                \"hitcount\": hitcount\n",
    "            }\n",
    "            \n",
    "        else:\n",
    "            state = np.zeros(self.observation_space.shape, dtype=np.uint8)\n",
    "            info = {}\n",
    "\n",
    "        done = self.game.is_episode_finished()\n",
    "        return state, reward, done, False, info  # False for 'truncated' (new Gymnasium API)\n",
    "\n",
    "    def render(self):\n",
    "        pass\n",
    "\n",
    "    def reset(self, seed=None, options=None):\n",
    "        \n",
    "        # available_game_variables = { HEALTH DAMAGE_TAKEN HITCOUNT SELECTED_WEAPON_AMMO}\n",
    "        self.damage_taken = 0\n",
    "        self.hitcount = 0\n",
    "        self.ammo = 52\n",
    "        \n",
    "        self.game.new_episode()\n",
    "        state = self.game.get_state().screen_buffer\n",
    "        return self.grayscale(state), {}\n",
    "\n",
    "    def grayscale(self, observation):\n",
    "        gray = cv2.cvtColor(np.moveaxis(observation, 0, -1), cv2.COLOR_BGR2GRAY)\n",
    "        resize = cv2.resize(gray, (160, 100), interpolation=cv2.INTER_CUBIC)\n",
    "        return np.reshape(resize, (100, 160, 1))\n",
    "\n",
    "    def close(self):\n",
    "        self.game.close()"
   ]
  },
  {
   "cell_type": "code",
   "execution_count": 63,
   "id": "4dc1157e-531d-44d0-a898-2fbdc3d5adba",
   "metadata": {},
   "outputs": [],
   "source": [
    "env = VizDoomGym() # without render"
   ]
  },
  {
   "cell_type": "code",
   "execution_count": 51,
   "id": "0b04a38d-c2e1-4749-899a-32707063d025",
   "metadata": {},
   "outputs": [],
   "source": [
    "env = VizDoomGym(render = True)"
   ]
  },
  {
   "cell_type": "code",
   "execution_count": 34,
   "id": "4fa872d0-0712-4481-ba9b-2a281ca5a650",
   "metadata": {},
   "outputs": [
    {
     "data": {
      "text/plain": [
       "(100, 160, 1)"
      ]
     },
     "execution_count": 34,
     "metadata": {},
     "output_type": "execute_result"
    }
   ],
   "source": [
    "env.observation_space.shape"
   ]
  },
  {
   "cell_type": "code",
   "execution_count": 157,
   "id": "152f9720-bf65-4c6e-bb3e-e8784d155c3c",
   "metadata": {},
   "outputs": [],
   "source": [
    "state = env.reset()"
   ]
  },
  {
   "cell_type": "code",
   "execution_count": 98,
   "id": "b6547c88-a555-4822-9838-8f5693bf1a7b",
   "metadata": {},
   "outputs": [],
   "source": [
    "env.close()"
   ]
  },
  {
   "cell_type": "code",
   "execution_count": 96,
   "id": "c2a54621-b338-4e53-8396-2ade1e578945",
   "metadata": {},
   "outputs": [],
   "source": [
    "# importing env checker\n",
    "from stable_baselines3.common import env_checker"
   ]
  },
  {
   "cell_type": "code",
   "execution_count": 55,
   "id": "6a39c437-ae69-4285-9e63-5cbc506bb0ee",
   "metadata": {},
   "outputs": [],
   "source": [
    "env_checker.check_env(env) # if no output then env is working fine."
   ]
  },
  {
   "cell_type": "markdown",
   "id": "d20906eb-9194-43f7-b6f0-394e86ece9fa",
   "metadata": {},
   "source": [
    "# Visualising State"
   ]
  },
  {
   "cell_type": "code",
   "execution_count": 59,
   "id": "18ba43a5-6a01-4bbe-afc0-57f700c09c38",
   "metadata": {},
   "outputs": [],
   "source": [
    "from matplotlib import pyplot as plt"
   ]
  },
  {
   "cell_type": "code",
   "execution_count": 65,
   "id": "a28409a8-e1df-4323-82de-b63ec8c31c12",
   "metadata": {},
   "outputs": [
    {
     "data": {
      "image/png": "[encoded data removed]",
      "text/plain": [
       "<Figure size 640x480 with 1 Axes>"
      ]
     },
     "metadata": {},
     "output_type": "display_data"
    }
   ],
   "source": [
    "# Extract the state from the tuple\n",
    "state, _ = env.reset()\n",
    "\n",
    "# Since the image is already grayscale, no need to convert to RGB\n",
    "plt.imshow(state.squeeze(), cmap='gray')  # Use .squeeze() to remove the extra channel dimension\n",
    "plt.show()"
   ]
  },
  {
   "cell_type": "markdown",
   "id": "ed4fe510-fa3b-4618-8c63-5fe106eb99b0",
   "metadata": {},
   "source": [
    "# Making the Callback Function"
   ]
  },
  {
   "cell_type": "code",
   "execution_count": 14,
   "id": "784a5175-741d-43d9-b343-7e481652e925",
   "metadata": {
    "collapsed": true,
    "jupyter": {
     "outputs_hidden": true
    },
    "tags": []
   },
   "outputs": [
    {
     "name": "stderr",
     "output_type": "stream",
     "text": [
      "WARNING: Ignoring invalid distribution -orch (c:\\users\\kiit\\appdata\\roaming\\python\\python39\\site-packages)\n",
      "WARNING: Ignoring invalid distribution -orch (c:\\users\\kiit\\appdata\\roaming\\python\\python39\\site-packages)\n",
      "WARNING: Ignoring invalid distribution -orch (c:\\users\\kiit\\appdata\\roaming\\python\\python39\\site-packages)\n",
      "WARNING: Ignoring invalid distribution -orch (c:\\users\\kiit\\appdata\\roaming\\python\\python39\\site-packages)\n",
      "WARNING: Ignoring invalid distribution -orch (c:\\users\\kiit\\appdata\\roaming\\python\\python39\\site-packages)\n",
      "WARNING: Ignoring invalid distribution -orch (c:\\users\\kiit\\appdata\\roaming\\python\\python39\\site-packages)\n",
      "WARNING: Ignoring invalid distribution -orch (c:\\users\\kiit\\appdata\\roaming\\python\\python39\\site-packages)\n"
     ]
    },
    {
     "name": "stdout",
     "output_type": "stream",
     "text": [
      "Defaulting to user installation because normal site-packages is not writeable\n",
      "Collecting torch\n",
      "  Using cached torch-2.6.0-cp39-cp39-win_amd64.whl (204.1 MB)\n",
      "Requirement already satisfied: torchvision in c:\\users\\kiit\\appdata\\roaming\\python\\python39\\site-packages (0.20.1+cpu)\n",
      "Requirement already satisfied: torchaudio in c:\\users\\kiit\\appdata\\roaming\\python\\python39\\site-packages (2.5.1+cpu)\n",
      "Requirement already satisfied: networkx in c:\\programdata\\anaconda3\\lib\\site-packages (from torch) (2.8.4)\n",
      "Requirement already satisfied: filelock in c:\\users\\kiit\\appdata\\roaming\\python\\python39\\site-packages (from torch) (3.17.0)\n",
      "Requirement already satisfied: typing-extensions>=4.10.0 in c:\\users\\kiit\\appdata\\roaming\\python\\python39\\site-packages (from torch) (4.12.2)\n",
      "Requirement already satisfied: fsspec in c:\\programdata\\anaconda3\\lib\\site-packages (from torch) (2022.7.1)\n",
      "Requirement already satisfied: jinja2 in c:\\users\\kiit\\appdata\\roaming\\python\\python39\\site-packages (from torch) (3.1.5)\n",
      "Requirement already satisfied: sympy==1.13.1 in c:\\users\\kiit\\appdata\\roaming\\python\\python39\\site-packages (from torch) (1.13.1)\n",
      "Requirement already satisfied: mpmath<1.4,>=1.1.0 in c:\\programdata\\anaconda3\\lib\\site-packages (from sympy==1.13.1->torch) (1.2.1)\n",
      "  Downloading torch-2.5.1-cp39-cp39-win_amd64.whl (203.0 MB)\n",
      "     -------------------------------------- 203.0/203.0 MB 1.0 MB/s eta 0:00:00\n",
      "Requirement already satisfied: pillow!=8.3.*,>=5.3.0 in c:\\programdata\\anaconda3\\lib\\site-packages (from torchvision) (10.3.0)\n",
      "Requirement already satisfied: numpy in c:\\users\\kiit\\appdata\\roaming\\python\\python39\\site-packages (from torchvision) (1.26.4)\n",
      "Requirement already satisfied: MarkupSafe>=2.0 in c:\\programdata\\anaconda3\\lib\\site-packages (from jinja2->torch) (2.0.1)\n",
      "Installing collected packages: torch\n",
      "Successfully installed torch-2.5.1\n"
     ]
    }
   ],
   "source": [
    "#Installing pytorch\n",
    "!pip3 install torch torchvision torchaudio"
   ]
  },
  {
   "cell_type": "code",
   "execution_count": 268,
   "id": "55dfb40f-0f85-4e10-8d05-626d38c7bb2f",
   "metadata": {
    "collapsed": true,
    "jupyter": {
     "outputs_hidden": true
    },
    "tags": []
   },
   "outputs": [
    {
     "name": "stdout",
     "output_type": "stream",
     "text": [
      "Defaulting to user installation because normal site-packages is not writeable\n",
      "Requirement already satisfied: stable-baselines3[extra] in c:\\users\\kiit\\appdata\\roaming\\python\\python39\\site-packages (2.4.1)\n",
      "Requirement already satisfied: pandas in c:\\programdata\\anaconda3\\lib\\site-packages (from stable-baselines3[extra]) (1.4.4)\n",
      "Collecting numpy<2.0,>=1.20\n",
      "  Downloading numpy-1.26.4-cp39-cp39-win_amd64.whl (15.8 MB)\n",
      "     -------------------------------------- 15.8/15.8 MB 615.5 kB/s eta 0:00:00\n",
      "Collecting torch>=1.13\n",
      "  Using cached torch-2.6.0-cp39-cp39-win_amd64.whl (204.1 MB)\n",
      "Requirement already satisfied: gymnasium<1.1.0,>=0.29.1 in c:\\users\\kiit\\appdata\\roaming\\python\\python39\\site-packages (from stable-baselines3[extra]) (1.0.0)\n",
      "Requirement already satisfied: matplotlib in c:\\programdata\\anaconda3\\lib\\site-packages (from stable-baselines3[extra]) (3.5.2)\n",
      "Requirement already satisfied: cloudpickle in c:\\programdata\\anaconda3\\lib\\site-packages (from stable-baselines3[extra]) (2.0.0)\n",
      "Requirement already satisfied: psutil in c:\\programdata\\anaconda3\\lib\\site-packages (from stable-baselines3[extra]) (5.9.0)\n",
      "Requirement already satisfied: ale-py>=0.9.0 in c:\\users\\kiit\\appdata\\roaming\\python\\python39\\site-packages (from stable-baselines3[extra]) (0.10.1)\n",
      "Requirement already satisfied: pillow in c:\\programdata\\anaconda3\\lib\\site-packages (from stable-baselines3[extra]) (10.3.0)\n",
      "Requirement already satisfied: opencv-python in c:\\users\\kiit\\appdata\\roaming\\python\\python39\\site-packages (from stable-baselines3[extra]) (4.8.1.78)\n",
      "Collecting tensorboard>=2.9.1\n",
      "  Using cached tensorboard-2.18.0-py3-none-any.whl (5.5 MB)\n",
      "Requirement already satisfied: pygame in c:\\users\\kiit\\appdata\\roaming\\python\\python39\\site-packages (from stable-baselines3[extra]) (2.6.1)\n",
      "Requirement already satisfied: tqdm in c:\\programdata\\anaconda3\\lib\\site-packages (from stable-baselines3[extra]) (4.64.1)\n",
      "Requirement already satisfied: rich in c:\\users\\kiit\\appdata\\roaming\\python\\python39\\site-packages (from stable-baselines3[extra]) (13.7.1)\n",
      "Requirement already satisfied: importlib-metadata>=4.10.0 in c:\\users\\kiit\\appdata\\roaming\\python\\python39\\site-packages (from ale-py>=0.9.0->stable-baselines3[extra]) (8.5.0)\n",
      "Requirement already satisfied: typing-extensions in c:\\users\\kiit\\appdata\\roaming\\python\\python39\\site-packages (from ale-py>=0.9.0->stable-baselines3[extra]) (4.12.2)\n",
      "Requirement already satisfied: farama-notifications>=0.0.1 in c:\\users\\kiit\\appdata\\roaming\\python\\python39\\site-packages (from gymnasium<1.1.0,>=0.29.1->stable-baselines3[extra]) (0.0.4)\n",
      "Requirement already satisfied: packaging in c:\\programdata\\anaconda3\\lib\\site-packages (from tensorboard>=2.9.1->stable-baselines3[extra]) (21.3)\n",
      "Requirement already satisfied: protobuf!=4.24.0,>=3.19.6 in c:\\users\\kiit\\appdata\\roaming\\python\\python39\\site-packages (from tensorboard>=2.9.1->stable-baselines3[extra]) (3.20.3)\n",
      "Requirement already satisfied: werkzeug>=1.0.1 in c:\\programdata\\anaconda3\\lib\\site-packages (from tensorboard>=2.9.1->stable-baselines3[extra]) (2.0.3)\n",
      "Requirement already satisfied: six>1.9 in c:\\programdata\\anaconda3\\lib\\site-packages (from tensorboard>=2.9.1->stable-baselines3[extra]) (1.16.0)\n",
      "Requirement already satisfied: markdown>=2.6.8 in c:\\programdata\\anaconda3\\lib\\site-packages (from tensorboard>=2.9.1->stable-baselines3[extra]) (3.3.4)\n",
      "Requirement already satisfied: tensorboard-data-server<0.8.0,>=0.7.0 in c:\\users\\kiit\\appdata\\roaming\\python\\python39\\site-packages (from tensorboard>=2.9.1->stable-baselines3[extra]) (0.7.1)\n",
      "Requirement already satisfied: setuptools>=41.0.0 in c:\\programdata\\anaconda3\\lib\\site-packages (from tensorboard>=2.9.1->stable-baselines3[extra]) (63.4.1)\n",
      "Requirement already satisfied: absl-py>=0.4 in c:\\users\\kiit\\appdata\\roaming\\python\\python39\\site-packages (from tensorboard>=2.9.1->stable-baselines3[extra]) (2.0.0)\n",
      "Requirement already satisfied: grpcio>=1.48.2 in c:\\users\\kiit\\appdata\\roaming\\python\\python39\\site-packages (from tensorboard>=2.9.1->stable-baselines3[extra]) (1.59.0)\n",
      "Requirement already satisfied: fsspec in c:\\programdata\\anaconda3\\lib\\site-packages (from torch>=1.13->stable-baselines3[extra]) (2022.7.1)\n",
      "Requirement already satisfied: jinja2 in c:\\users\\kiit\\appdata\\roaming\\python\\python39\\site-packages (from torch>=1.13->stable-baselines3[extra]) (3.1.5)\n",
      "Requirement already satisfied: networkx in c:\\programdata\\anaconda3\\lib\\site-packages (from torch>=1.13->stable-baselines3[extra]) (2.8.4)\n",
      "Requirement already satisfied: sympy==1.13.1 in c:\\users\\kiit\\appdata\\roaming\\python\\python39\\site-packages (from torch>=1.13->stable-baselines3[extra]) (1.13.1)\n",
      "Requirement already satisfied: filelock in c:\\users\\kiit\\appdata\\roaming\\python\\python39\\site-packages (from torch>=1.13->stable-baselines3[extra]) (3.17.0)\n",
      "Requirement already satisfied: mpmath<1.4,>=1.1.0 in c:\\programdata\\anaconda3\\lib\\site-packages (from sympy==1.13.1->torch>=1.13->stable-baselines3[extra]) (1.2.1)\n",
      "Requirement already satisfied: python-dateutil>=2.7 in c:\\programdata\\anaconda3\\lib\\site-packages (from matplotlib->stable-baselines3[extra]) (2.8.2)\n",
      "Requirement already satisfied: fonttools>=4.22.0 in c:\\programdata\\anaconda3\\lib\\site-packages (from matplotlib->stable-baselines3[extra]) (4.25.0)\n",
      "Requirement already satisfied: pyparsing>=2.2.1 in c:\\programdata\\anaconda3\\lib\\site-packages (from matplotlib->stable-baselines3[extra]) (3.0.9)\n",
      "Requirement already satisfied: cycler>=0.10 in c:\\programdata\\anaconda3\\lib\\site-packages (from matplotlib->stable-baselines3[extra]) (0.11.0)\n",
      "Requirement already satisfied: kiwisolver>=1.0.1 in c:\\programdata\\anaconda3\\lib\\site-packages (from matplotlib->stable-baselines3[extra]) (1.4.2)\n",
      "Requirement already satisfied: pytz>=2020.1 in c:\\users\\kiit\\appdata\\roaming\\python\\python39\\site-packages (from pandas->stable-baselines3[extra]) (2024.2)\n",
      "Requirement already satisfied: pygments<3.0.0,>=2.13.0 in c:\\users\\kiit\\appdata\\roaming\\python\\python39\\site-packages (from rich->stable-baselines3[extra]) (2.17.2)\n",
      "Requirement already satisfied: markdown-it-py>=2.2.0 in c:\\users\\kiit\\appdata\\roaming\\python\\python39\\site-packages (from rich->stable-baselines3[extra]) (3.0.0)\n",
      "Requirement already satisfied: colorama in c:\\programdata\\anaconda3\\lib\\site-packages (from tqdm->stable-baselines3[extra]) (0.4.5)\n",
      "Requirement already satisfied: zipp>=3.20 in c:\\users\\kiit\\appdata\\roaming\\python\\python39\\site-packages (from importlib-metadata>=4.10.0->ale-py>=0.9.0->stable-baselines3[extra]) (3.21.0)\n",
      "Requirement already satisfied: mdurl~=0.1 in c:\\users\\kiit\\appdata\\roaming\\python\\python39\\site-packages (from markdown-it-py>=2.2.0->rich->stable-baselines3[extra]) (0.1.2)\n",
      "Requirement already satisfied: MarkupSafe>=2.0 in c:\\programdata\\anaconda3\\lib\\site-packages (from jinja2->torch>=1.13->stable-baselines3[extra]) (2.0.1)\n",
      "Installing collected packages: numpy, torch, tensorboard\n",
      "  Attempting uninstall: numpy\n",
      "    Found existing installation: numpy 2.0.2\n",
      "    Uninstalling numpy-2.0.2:\n",
      "      Successfully uninstalled numpy-2.0.2\n"
     ]
    },
    {
     "name": "stderr",
     "output_type": "stream",
     "text": [
      "WARNING: Ignoring invalid distribution -orch (c:\\users\\kiit\\appdata\\roaming\\python\\python39\\site-packages)\n",
      "WARNING: Ignoring invalid distribution -orch (c:\\users\\kiit\\appdata\\roaming\\python\\python39\\site-packages)\n",
      "WARNING: Ignoring invalid distribution -orch (c:\\users\\kiit\\appdata\\roaming\\python\\python39\\site-packages)\n",
      "    WARNING: Ignoring invalid distribution -orch (c:\\users\\kiit\\appdata\\roaming\\python\\python39\\site-packages)\n",
      "ERROR: Could not install packages due to an OSError: [WinError 5] Access is denied: 'C:\\\\Users\\\\KIIT\\\\AppData\\\\Roaming\\\\Python\\\\Python39\\\\site-packages\\\\~-mpy.libs\\\\libscipy_openblas64_-caad452230ae4ddb57899b8b3a33c55c.dll'\n",
      "Check the permissions.\n",
      "\n",
      "WARNING: Ignoring invalid distribution -orch (c:\\users\\kiit\\appdata\\roaming\\python\\python39\\site-packages)\n",
      "WARNING: Ignoring invalid distribution -orch (c:\\users\\kiit\\appdata\\roaming\\python\\python39\\site-packages)\n",
      "WARNING: Ignoring invalid distribution -orch (c:\\users\\kiit\\appdata\\roaming\\python\\python39\\site-packages)\n"
     ]
    }
   ],
   "source": [
    "# Installing Stable Baselines\n",
    "!pip install stable-baselines3[extra]"
   ]
  },
  {
   "cell_type": "code",
   "execution_count": 84,
   "id": "c8d234a4-d02b-47ff-b3a7-e7eea966ccf9",
   "metadata": {},
   "outputs": [],
   "source": [
    "# IMPORTING DEPENDANCIES\n",
    "import os\n",
    "import torch\n",
    "from stable_baselines3.common.callbacks import BaseCallback"
   ]
  },
  {
   "cell_type": "code",
   "execution_count": 86,
   "id": "aff87b8b-2440-4f22-81de-f16eaa4a0630",
   "metadata": {},
   "outputs": [],
   "source": [
    "class TrainingLoggingCallback(BaseCallback):\n",
    "    def __init__(self, check_freq, save_path, verbose = 1):\n",
    "        super(TrainingLoggingCallback, self).__init__(verbose)\n",
    "        self.check_freq = check_freq\n",
    "        self.save_path = save_path\n",
    "        \n",
    "    def _init_callback(self):\n",
    "        if self.save_path is not None:\n",
    "            os.makedirs(self.save_path, exist_ok = True)\n",
    "            \n",
    "    def _on_step(self):\n",
    "        if (self.n_calls % self.check_freq == 0):\n",
    "            model_path = os.path.join(self.save_path, 'model_{}'.format(self.n_calls))\n",
    "            self.model.save(model_path)\n",
    "        \n",
    "        return True"
   ]
  },
  {
   "cell_type": "code",
   "execution_count": 88,
   "id": "7939e746-9edb-467d-922d-bf810c797a6e",
   "metadata": {},
   "outputs": [],
   "source": [
    "Check_Dir = './train/train_corridor/'\n",
    "Log_Dir = './logs/logs_corridor/'"
   ]
  },
  {
   "cell_type": "code",
   "execution_count": 90,
   "id": "1dcaf8b4-4f1b-495d-bfbe-288965473cf8",
   "metadata": {},
   "outputs": [],
   "source": [
    "callback = TrainingLoggingCallback(check_freq=10000, save_path=Check_Dir)"
   ]
  },
  {
   "cell_type": "markdown",
   "id": "b0b10488-a4cb-46c8-a370-e4e741c8ea9b",
   "metadata": {},
   "source": [
    "# Training Model Using Curriculum"
   ]
  },
  {
   "cell_type": "code",
   "execution_count": 10,
   "id": "4538a583-d3ea-491b-9d4a-c165c4e7a540",
   "metadata": {
    "collapsed": true,
    "jupyter": {
     "outputs_hidden": true
    },
    "tags": []
   },
   "outputs": [
    {
     "name": "stdout",
     "output_type": "stream",
     "text": [
      "Defaulting to user installation because normal site-packages is not writeable\n",
      "Requirement already satisfied: tensorboard in c:\\users\\kiit\\appdata\\roaming\\python\\python39\\site-packages (2.18.0)\n",
      "Requirement already satisfied: protobuf!=4.24.0,>=3.19.6 in c:\\users\\kiit\\appdata\\roaming\\python\\python39\\site-packages (from tensorboard) (3.20.3)\n",
      "Requirement already satisfied: packaging in c:\\programdata\\anaconda3\\lib\\site-packages (from tensorboard) (21.3)\n",
      "Requirement already satisfied: grpcio>=1.48.2 in c:\\users\\kiit\\appdata\\roaming\\python\\python39\\site-packages (from tensorboard) (1.59.0)\n",
      "Requirement already satisfied: tensorboard-data-server<0.8.0,>=0.7.0 in c:\\users\\kiit\\appdata\\roaming\\python\\python39\\site-packages (from tensorboard) (0.7.1)\n",
      "Requirement already satisfied: markdown>=2.6.8 in c:\\programdata\\anaconda3\\lib\\site-packages (from tensorboard) (3.3.4)\n",
      "Requirement already satisfied: six>1.9 in c:\\programdata\\anaconda3\\lib\\site-packages (from tensorboard) (1.16.0)\n",
      "Requirement already satisfied: numpy>=1.12.0 in c:\\users\\kiit\\appdata\\roaming\\python\\python39\\site-packages (from tensorboard) (1.26.4)\n",
      "Requirement already satisfied: werkzeug>=1.0.1 in c:\\programdata\\anaconda3\\lib\\site-packages (from tensorboard) (2.0.3)\n",
      "Requirement already satisfied: absl-py>=0.4 in c:\\users\\kiit\\appdata\\roaming\\python\\python39\\site-packages (from tensorboard) (2.0.0)\n",
      "Requirement already satisfied: setuptools>=41.0.0 in c:\\programdata\\anaconda3\\lib\\site-packages (from tensorboard) (63.4.1)\n",
      "Requirement already satisfied: pyparsing!=3.0.5,>=2.0.2 in c:\\programdata\\anaconda3\\lib\\site-packages (from packaging->tensorboard) (3.0.9)\n"
     ]
    },
    {
     "name": "stderr",
     "output_type": "stream",
     "text": [
      "WARNING: Ignoring invalid distribution -orch (c:\\users\\kiit\\appdata\\roaming\\python\\python39\\site-packages)\n",
      "WARNING: Ignoring invalid distribution -orch (c:\\users\\kiit\\appdata\\roaming\\python\\python39\\site-packages)\n",
      "WARNING: Ignoring invalid distribution -orch (c:\\users\\kiit\\appdata\\roaming\\python\\python39\\site-packages)\n",
      "WARNING: Ignoring invalid distribution -orch (c:\\users\\kiit\\appdata\\roaming\\python\\python39\\site-packages)\n",
      "WARNING: Ignoring invalid distribution -orch (c:\\users\\kiit\\appdata\\roaming\\python\\python39\\site-packages)\n",
      "WARNING: Ignoring invalid distribution -orch (c:\\users\\kiit\\appdata\\roaming\\python\\python39\\site-packages)\n"
     ]
    }
   ],
   "source": [
    "!pip install tensorboard"
   ]
  },
  {
   "cell_type": "code",
   "execution_count": 75,
   "id": "5b835add-b7c4-4766-80a4-34397e668d06",
   "metadata": {},
   "outputs": [
    {
     "name": "stdout",
     "output_type": "stream",
     "text": [
      "2.18.0\n"
     ]
    }
   ],
   "source": [
    "import tensorboard\n",
    "print(tensorboard.__version__)"
   ]
  },
  {
   "cell_type": "code",
   "execution_count": 72,
   "id": "250f0b3e-e04f-444c-9a96-da435b2de37d",
   "metadata": {},
   "outputs": [],
   "source": [
    "# Using PPO algorithm\n",
    "from stable_baselines3 import PPO"
   ]
  },
  {
   "cell_type": "code",
   "execution_count": 100,
   "id": "f6350930-c3c2-4cac-8922-8320591be576",
   "metadata": {},
   "outputs": [],
   "source": [
    "env = VizDoomGym(config = 'github/ViZDoom/scenarios/new_1deadly_corridor.cfg') "
   ]
  },
  {
   "cell_type": "code",
   "execution_count": 108,
   "id": "ae4b7e5b-2127-4456-9ad1-6cfad6aaa95a",
   "metadata": {},
   "outputs": [
    {
     "name": "stdout",
     "output_type": "stream",
     "text": [
      "Using cpu device\n",
      "Wrapping the env with a `Monitor` wrapper\n",
      "Wrapping the env in a DummyVecEnv.\n",
      "Wrapping the env in a VecTransposeImage.\n"
     ]
    }
   ],
   "source": [
    "# model = PPO('CnnPolicy', env, tensorboard_log=Log_Dir, verbose = 1, learning_rate=0.0002, n_steps = 4096)\n",
    "# Cnn because image, tensorboard log goes to the log directory, verbose to give info while training\n",
    "# n_steps is the batch size\n",
    "model = PPO('CnnPolicy', env, tensorboard_log=Log_Dir, verbose = 1, learning_rate = 0.00001, n_steps = 8192, clip_range = .1, gamma = .95, gae_lambda = .9)"
   ]
  },
  {
   "cell_type": "code",
   "execution_count": null,
   "id": "fb3c07b6-32f3-4c9f-8575-31de5bade9e5",
   "metadata": {
    "tags": []
   },
   "outputs": [
    {
     "name": "stdout",
     "output_type": "stream",
     "text": [
      "Logging to ./logs/logs_corridor/PPO_2\n",
      "---------------------------------\n",
      "| rollout/           |          |\n",
      "|    ep_len_mean     | 173      |\n",
      "|    ep_rew_mean     | 120      |\n",
      "| time/              |          |\n",
      "|    fps             | 28       |\n",
      "|    iterations      | 1        |\n",
      "|    time_elapsed    | 286      |\n",
      "|    total_timesteps | 8192     |\n",
      "---------------------------------\n",
      "------------------------------------------\n",
      "| rollout/                |              |\n",
      "|    ep_len_mean          | 171          |\n",
      "|    ep_rew_mean          | 124          |\n",
      "| time/                   |              |\n",
      "|    fps                  | 22           |\n",
      "|    iterations           | 2            |\n",
      "|    time_elapsed         | 744          |\n",
      "|    total_timesteps      | 16384        |\n",
      "| train/                  |              |\n",
      "|    approx_kl            | 0.0029366156 |\n",
      "|    clip_fraction        | 0.172        |\n",
      "|    clip_range           | 0.1          |\n",
      "|    entropy_loss         | -1.94        |\n",
      "|    explained_variance   | -5.3e-05     |\n",
      "|    learning_rate        | 1e-05        |\n",
      "|    loss                 | 3.13e+03     |\n",
      "|    n_updates            | 10           |\n",
      "|    policy_gradient_loss | -0.00422     |\n",
      "|    value_loss           | 1.03e+04     |\n",
      "------------------------------------------\n",
      "-----------------------------------------\n",
      "| rollout/                |             |\n",
      "|    ep_len_mean          | 152         |\n",
      "|    ep_rew_mean          | 157         |\n",
      "| time/                   |             |\n",
      "|    fps                  | 21          |\n",
      "|    iterations           | 3           |\n",
      "|    time_elapsed         | 1163        |\n",
      "|    total_timesteps      | 24576       |\n",
      "| train/                  |             |\n",
      "|    approx_kl            | 0.003533012 |\n",
      "|    clip_fraction        | 0.158       |\n",
      "|    clip_range           | 0.1         |\n",
      "|    entropy_loss         | -1.94       |\n",
      "|    explained_variance   | 0.0184      |\n",
      "|    learning_rate        | 1e-05       |\n",
      "|    loss                 | 2.94e+03    |\n",
      "|    n_updates            | 20          |\n",
      "|    policy_gradient_loss | -0.00235    |\n",
      "|    value_loss           | 1.12e+04    |\n",
      "-----------------------------------------\n"
     ]
    }
   ],
   "source": [
    "model.learn(total_timesteps=4000000, callback=callback)"
   ]
  },
  {
   "cell_type": "code",
   "execution_count": null,
   "id": "1f1532ad-8c63-4e1b-b4ce-4b4f0775b53e",
   "metadata": {},
   "outputs": [],
   "source": [
    "print(\"Training Done\")"
   ]
  },
  {
   "cell_type": "markdown",
   "id": "849e90fb-260d-416f-9dae-e797a770b312",
   "metadata": {},
   "source": [
    "# Testing Trained Model"
   ]
  },
  {
   "cell_type": "code",
   "execution_count": 21,
   "id": "8491b4e9-1789-40f5-9004-9611ea8c59a7",
   "metadata": {},
   "outputs": [],
   "source": [
    "# Using stable baselines to evaluate model through builtin evaluation function\n",
    "from stable_baselines3.common.evaluation import evaluate_policy "
   ]
  },
  {
   "cell_type": "code",
   "execution_count": 23,
   "id": "98794adb-482a-4eed-b0ed-f59e54d23a5b",
   "metadata": {},
   "outputs": [],
   "source": [
    "model = PPO.load('./train/train_defend/model_120000.zip')"
   ]
  },
  {
   "cell_type": "code",
   "execution_count": 25,
   "id": "49c1bf53-0872-455f-9e4c-788218837ee2",
   "metadata": {},
   "outputs": [],
   "source": [
    "env = VizDoomGym(render = True)"
   ]
  },
  {
   "cell_type": "code",
   "execution_count": 58,
   "id": "25f0765d-5bd4-482a-99b0-5c807a2deed2",
   "metadata": {},
   "outputs": [],
   "source": [
    "env.close()"
   ]
  },
  {
   "cell_type": "code",
   "execution_count": 27,
   "id": "4c4ed5a5-ac27-4792-813e-f7815596fdfe",
   "metadata": {},
   "outputs": [
    {
     "name": "stderr",
     "output_type": "stream",
     "text": [
      "C:\\Users\\KIIT\\AppData\\Roaming\\Python\\Python39\\site-packages\\stable_baselines3\\common\\evaluation.py:67: UserWarning: Evaluation environment is not wrapped with a ``Monitor`` wrapper. This may result in reporting modified episode lengths and rewards, if other wrappers happen to modify these. Consider wrapping environment first with ``Monitor`` wrapper.\n",
      "  warnings.warn(\n"
     ]
    },
    {
     "ename": "KeyboardInterrupt",
     "evalue": "",
     "output_type": "error",
     "traceback": [
      "\u001b[1;31m---------------------------------------------------------------------------\u001b[0m",
      "\u001b[1;31mKeyboardInterrupt\u001b[0m                         Traceback (most recent call last)",
      "\u001b[1;32m~\\AppData\\Local\\Temp\\ipykernel_24344\\3538001448.py\u001b[0m in \u001b[0;36m<module>\u001b[1;34m\u001b[0m\n\u001b[1;32m----> 1\u001b[1;33m \u001b[0mmean_reward\u001b[0m\u001b[1;33m,\u001b[0m\u001b[0m_\u001b[0m \u001b[1;33m=\u001b[0m \u001b[0mevaluate_policy\u001b[0m\u001b[1;33m(\u001b[0m\u001b[0mmodel\u001b[0m\u001b[1;33m,\u001b[0m \u001b[0menv\u001b[0m\u001b[1;33m,\u001b[0m \u001b[0mn_eval_episodes\u001b[0m\u001b[1;33m=\u001b[0m\u001b[1;36m500\u001b[0m\u001b[1;33m)\u001b[0m\u001b[1;33m\u001b[0m\u001b[1;33m\u001b[0m\u001b[0m\n\u001b[0m",
      "\u001b[1;32m~\\AppData\\Roaming\\Python\\Python39\\site-packages\\stable_baselines3\\common\\evaluation.py\u001b[0m in \u001b[0;36mevaluate_policy\u001b[1;34m(model, env, n_eval_episodes, deterministic, render, callback, reward_threshold, return_episode_rewards, warn)\u001b[0m\n\u001b[0;32m     92\u001b[0m             \u001b[0mdeterministic\u001b[0m\u001b[1;33m=\u001b[0m\u001b[0mdeterministic\u001b[0m\u001b[1;33m,\u001b[0m\u001b[1;33m\u001b[0m\u001b[1;33m\u001b[0m\u001b[0m\n\u001b[0;32m     93\u001b[0m         )\n\u001b[1;32m---> 94\u001b[1;33m         \u001b[0mnew_observations\u001b[0m\u001b[1;33m,\u001b[0m \u001b[0mrewards\u001b[0m\u001b[1;33m,\u001b[0m \u001b[0mdones\u001b[0m\u001b[1;33m,\u001b[0m \u001b[0minfos\u001b[0m \u001b[1;33m=\u001b[0m \u001b[0menv\u001b[0m\u001b[1;33m.\u001b[0m\u001b[0mstep\u001b[0m\u001b[1;33m(\u001b[0m\u001b[0mactions\u001b[0m\u001b[1;33m)\u001b[0m\u001b[1;33m\u001b[0m\u001b[1;33m\u001b[0m\u001b[0m\n\u001b[0m\u001b[0;32m     95\u001b[0m         \u001b[0mcurrent_rewards\u001b[0m \u001b[1;33m+=\u001b[0m \u001b[0mrewards\u001b[0m\u001b[1;33m\u001b[0m\u001b[1;33m\u001b[0m\u001b[0m\n\u001b[0;32m     96\u001b[0m         \u001b[0mcurrent_lengths\u001b[0m \u001b[1;33m+=\u001b[0m \u001b[1;36m1\u001b[0m\u001b[1;33m\u001b[0m\u001b[1;33m\u001b[0m\u001b[0m\n",
      "\u001b[1;32m~\\AppData\\Roaming\\Python\\Python39\\site-packages\\stable_baselines3\\common\\vec_env\\base_vec_env.py\u001b[0m in \u001b[0;36mstep\u001b[1;34m(self, actions)\u001b[0m\n\u001b[0;32m    204\u001b[0m         \"\"\"\n\u001b[0;32m    205\u001b[0m         \u001b[0mself\u001b[0m\u001b[1;33m.\u001b[0m\u001b[0mstep_async\u001b[0m\u001b[1;33m(\u001b[0m\u001b[0mactions\u001b[0m\u001b[1;33m)\u001b[0m\u001b[1;33m\u001b[0m\u001b[1;33m\u001b[0m\u001b[0m\n\u001b[1;32m--> 206\u001b[1;33m         \u001b[1;32mreturn\u001b[0m \u001b[0mself\u001b[0m\u001b[1;33m.\u001b[0m\u001b[0mstep_wait\u001b[0m\u001b[1;33m(\u001b[0m\u001b[1;33m)\u001b[0m\u001b[1;33m\u001b[0m\u001b[1;33m\u001b[0m\u001b[0m\n\u001b[0m\u001b[0;32m    207\u001b[0m \u001b[1;33m\u001b[0m\u001b[0m\n\u001b[0;32m    208\u001b[0m     \u001b[1;32mdef\u001b[0m \u001b[0mget_images\u001b[0m\u001b[1;33m(\u001b[0m\u001b[0mself\u001b[0m\u001b[1;33m)\u001b[0m \u001b[1;33m->\u001b[0m \u001b[0mSequence\u001b[0m\u001b[1;33m[\u001b[0m\u001b[0mOptional\u001b[0m\u001b[1;33m[\u001b[0m\u001b[0mnp\u001b[0m\u001b[1;33m.\u001b[0m\u001b[0mndarray\u001b[0m\u001b[1;33m]\u001b[0m\u001b[1;33m]\u001b[0m\u001b[1;33m:\u001b[0m\u001b[1;33m\u001b[0m\u001b[1;33m\u001b[0m\u001b[0m\n",
      "\u001b[1;32m~\\AppData\\Roaming\\Python\\Python39\\site-packages\\stable_baselines3\\common\\vec_env\\dummy_vec_env.py\u001b[0m in \u001b[0;36mstep_wait\u001b[1;34m(self)\u001b[0m\n\u001b[0;32m     56\u001b[0m         \u001b[1;31m# Avoid circular imports\u001b[0m\u001b[1;33m\u001b[0m\u001b[1;33m\u001b[0m\u001b[0m\n\u001b[0;32m     57\u001b[0m         \u001b[1;32mfor\u001b[0m \u001b[0menv_idx\u001b[0m \u001b[1;32min\u001b[0m \u001b[0mrange\u001b[0m\u001b[1;33m(\u001b[0m\u001b[0mself\u001b[0m\u001b[1;33m.\u001b[0m\u001b[0mnum_envs\u001b[0m\u001b[1;33m)\u001b[0m\u001b[1;33m:\u001b[0m\u001b[1;33m\u001b[0m\u001b[1;33m\u001b[0m\u001b[0m\n\u001b[1;32m---> 58\u001b[1;33m             obs, self.buf_rews[env_idx], terminated, truncated, self.buf_infos[env_idx] = self.envs[env_idx].step(\n\u001b[0m\u001b[0;32m     59\u001b[0m                 \u001b[0mself\u001b[0m\u001b[1;33m.\u001b[0m\u001b[0mactions\u001b[0m\u001b[1;33m[\u001b[0m\u001b[0menv_idx\u001b[0m\u001b[1;33m]\u001b[0m\u001b[1;33m\u001b[0m\u001b[1;33m\u001b[0m\u001b[0m\n\u001b[0;32m     60\u001b[0m             )\n",
      "\u001b[1;32m~\\AppData\\Local\\Temp\\ipykernel_24344\\2614527425.py\u001b[0m in \u001b[0;36mstep\u001b[1;34m(self, action)\u001b[0m\n\u001b[0;32m     13\u001b[0m     \u001b[1;32mdef\u001b[0m \u001b[0mstep\u001b[0m\u001b[1;33m(\u001b[0m\u001b[0mself\u001b[0m\u001b[1;33m,\u001b[0m \u001b[0maction\u001b[0m\u001b[1;33m)\u001b[0m\u001b[1;33m:\u001b[0m\u001b[1;33m\u001b[0m\u001b[1;33m\u001b[0m\u001b[0m\n\u001b[0;32m     14\u001b[0m         \u001b[0mactions\u001b[0m \u001b[1;33m=\u001b[0m \u001b[0mnp\u001b[0m\u001b[1;33m.\u001b[0m\u001b[0midentity\u001b[0m\u001b[1;33m(\u001b[0m\u001b[1;36m3\u001b[0m\u001b[1;33m,\u001b[0m \u001b[0mdtype\u001b[0m\u001b[1;33m=\u001b[0m\u001b[0mnp\u001b[0m\u001b[1;33m.\u001b[0m\u001b[0muint8\u001b[0m\u001b[1;33m)\u001b[0m\u001b[1;33m\u001b[0m\u001b[1;33m\u001b[0m\u001b[0m\n\u001b[1;32m---> 15\u001b[1;33m         \u001b[0mreward\u001b[0m \u001b[1;33m=\u001b[0m \u001b[0mself\u001b[0m\u001b[1;33m.\u001b[0m\u001b[0mgame\u001b[0m\u001b[1;33m.\u001b[0m\u001b[0mmake_action\u001b[0m\u001b[1;33m(\u001b[0m\u001b[0mactions\u001b[0m\u001b[1;33m[\u001b[0m\u001b[0maction\u001b[0m\u001b[1;33m]\u001b[0m\u001b[1;33m,\u001b[0m \u001b[1;36m4\u001b[0m\u001b[1;33m)\u001b[0m\u001b[1;33m\u001b[0m\u001b[1;33m\u001b[0m\u001b[0m\n\u001b[0m\u001b[0;32m     16\u001b[0m \u001b[1;33m\u001b[0m\u001b[0m\n\u001b[0;32m     17\u001b[0m         \u001b[1;32mif\u001b[0m \u001b[0mself\u001b[0m\u001b[1;33m.\u001b[0m\u001b[0mgame\u001b[0m\u001b[1;33m.\u001b[0m\u001b[0mget_state\u001b[0m\u001b[1;33m(\u001b[0m\u001b[1;33m)\u001b[0m\u001b[1;33m:\u001b[0m\u001b[1;33m\u001b[0m\u001b[1;33m\u001b[0m\u001b[0m\n",
      "\u001b[1;31mKeyboardInterrupt\u001b[0m: "
     ]
    }
   ],
   "source": [
    "mean_reward,_ = evaluate_policy(model, env, n_eval_episodes=500)"
   ]
  },
  {
   "cell_type": "code",
   "execution_count": 60,
   "id": "4235657c-9dfb-4cee-9c49-09db46af4076",
   "metadata": {},
   "outputs": [
    {
     "data": {
      "text/plain": [
       "14.666"
      ]
     },
     "execution_count": 60,
     "metadata": {},
     "output_type": "execute_result"
    }
   ],
   "source": [
    "mean_reward"
   ]
  },
  {
   "cell_type": "code",
   "execution_count": null,
   "id": "c7dd26de-b2af-4bce-a0d6-285011d037f4",
   "metadata": {},
   "outputs": [],
   "source": []
  },
  {
   "cell_type": "code",
   "execution_count": null,
   "id": "1aae349e-8a3b-42e5-8c38-9965efed43ed",
   "metadata": {},
   "outputs": [],
   "source": []
  }
 ],
 "metadata": {
  "kernelspec": {
   "display_name": "Python 3 (ipykernel)",
   "language": "python",
   "name": "python3"
  },
  "language_info": {
   "codemirror_mode": {
    "name": "ipython",
    "version": 3
   },
   "file_extension": ".py",
   "mimetype": "text/x-python",
   "name": "python",
   "nbconvert_exporter": "python",
   "pygments_lexer": "ipython3",
   "version": "3.9.13"
  }
 },
 "nbformat": 4,
 "nbformat_minor": 5
}
